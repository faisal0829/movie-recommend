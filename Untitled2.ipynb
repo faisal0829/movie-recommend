{
  "nbformat": 4,
  "nbformat_minor": 0,
  "metadata": {
    "colab": {
      "name": "Untitled2.ipynb",
      "provenance": [],
      "authorship_tag": "ABX9TyO71u2FyFRPjo3zfpxchVz/",
      "include_colab_link": true
    },
    "kernelspec": {
      "name": "python3",
      "display_name": "Python 3"
    },
    "language_info": {
      "name": "python"
    }
  },
  "cells": [
    {
      "cell_type": "markdown",
      "metadata": {
        "id": "view-in-github",
        "colab_type": "text"
      },
      "source": [
        "<a href=\"https://colab.research.google.com/github/faisal0829/movie-recommend/blob/main/Untitled2.ipynb\" target=\"_parent\"><img src=\"https://colab.research.google.com/assets/colab-badge.svg\" alt=\"Open In Colab\"/></a>"
      ]
    },
    {
      "cell_type": "markdown",
      "source": [
        "# New Section"
      ],
      "metadata": {
        "id": "fk-uUytxnDlX"
      }
    },
    {
      "cell_type": "code",
      "execution_count": null,
      "metadata": {
        "id": "eNoGbfzDK-Z0"
      },
      "outputs": [],
      "source": [
        "import numpy as np\n",
        "import pandas as pd\n",
        "import difflib\n",
        "from sklearn.feature_extraction.text import TfidfVectorizer\n",
        "from sklearn.metrics.pairwise import cosine_similarity\n"
      ]
    },
    {
      "cell_type": "code",
      "source": [
        "import seaborn as sns\n",
        "import matplotlib.pyplot as plt\n"
      ],
      "metadata": {
        "id": "T4nA1m-LaPj1"
      },
      "execution_count": null,
      "outputs": []
    },
    {
      "cell_type": "code",
      "source": [
        "movies_data = pd.read_csv('/content/movies.csv')"
      ],
      "metadata": {
        "id": "iPPfwxPfVVco"
      },
      "execution_count": null,
      "outputs": []
    },
    {
      "cell_type": "code",
      "source": [
        " sns.countplot(x='director',data=movies_data)"
      ],
      "metadata": {
        "colab": {
          "base_uri": "https://localhost:8080/",
          "height": 297
        },
        "id": "TSTijc80c8Tu",
        "outputId": "7391393b-f86a-45b9-e099-ddc05953e7a2"
      },
      "execution_count": null,
      "outputs": [
        {
          "output_type": "execute_result",
          "data": {
            "text/plain": [
              "<matplotlib.axes._subplots.AxesSubplot at 0x7f8a88b93350>"
            ]
          },
          "metadata": {},
          "execution_count": 32
        },
        {
          "output_type": "display_data",
          "data": {
            "image/png": "[encoded data removed]",
            "text/plain": [
              "<Figure size 432x288 with 1 Axes>"
            ]
          },
          "metadata": {
            "needs_background": "light"
          }
        }
      ]
    },
    {
      "cell_type": "code",
      "source": [
        "selected_features = ['genres','keywords','tagline','cast','director']"
      ],
      "metadata": {
        "id": "pQLFERzoWzmk"
      },
      "execution_count": null,
      "outputs": []
    },
    {
      "cell_type": "code",
      "source": [
        "for feature in selected_features:\n",
        "  movies_data[feature] = movies_data[feature].fillna('')"
      ],
      "metadata": {
        "id": "y7XgVfzOXbCK"
      },
      "execution_count": null,
      "outputs": []
    },
    {
      "cell_type": "code",
      "source": [
        "combined_features = movies_data['genres']+' '+ movies_data['keywords']+' '+ movies_data['tagline']+' '+ movies_data['cast']+' '+ movies_data['director']"
      ],
      "metadata": {
        "id": "_GtRK67lX485"
      },
      "execution_count": null,
      "outputs": []
    },
    {
      "cell_type": "code",
      "source": [
        "from numpy.lib.function_base import vectorize\n",
        "vectorizer = TfidfVectorizer()"
      ],
      "metadata": {
        "id": "qZdg0B3YbJFs"
      },
      "execution_count": null,
      "outputs": []
    },
    {
      "cell_type": "code",
      "source": [
        "feature_vectors = vectorizer.fit_transform(combined_features)"
      ],
      "metadata": {
        "id": "o8fLr6_MbZkY"
      },
      "execution_count": null,
      "outputs": []
    },
    {
      "cell_type": "code",
      "source": [
        "similarity = cosine_similarity(feature_vectors)"
      ],
      "metadata": {
        "id": "s3dZT97TcBoL"
      },
      "execution_count": null,
      "outputs": []
    },
    {
      "cell_type": "markdown",
      "source": [
        "MOVIE RECOMMENDATION SYSTEM "
      ],
      "metadata": {
        "id": "A8dmQZt0ccko"
      }
    },
    {
      "cell_type": "code",
      "source": [
        "movie_name = input('enter your favourite movie name:')\n",
        "\n",
        "list_of_all_titles = movies_data['title'].tolist()\n",
        "\n",
        "find_close_match = difflib.get_close_matches(movie_name,list_of_all_titles)\n",
        "\n",
        "close_match = find_close_match[0]\n",
        "\n",
        "index_of_the_movie = movies_data[movies_data.title == close_match]['index'].values[0]\n",
        "\n",
        "similarity_score = list(enumerate(similarity[index_of_the_movie]))\n",
        "\n",
        "sorted_similar_movies = sorted(similarity_score,key=lambda x:x[1],reverse= True)\n",
        "\n",
        "print('movies suggested for you: \\n')\n",
        "\n",
        "i = 1\n",
        "\n",
        "for movie in sorted_similar_movies:\n",
        "  index = movie[0]\n",
        "  title_from_index = movies_data[movies_data.index==index]['title'].values[0]\n",
        "  if(i<30):\n",
        "    print(i, '.',title_from_index)\n",
        "    i+=1\n"
      ],
      "metadata": {
        "colab": {
          "base_uri": "https://localhost:8080/"
        },
        "id": "BnLQbiJo43mS",
        "outputId": "311883b9-af3d-423c-d37b-b6b9d6650ffa"
      },
      "execution_count": null,
      "outputs": [
        {
          "output_type": "stream",
          "name": "stdout",
          "text": [
            "enter your favourite movie name:x-men\n",
            "movies suggested for you: \n",
            "\n",
            "1 . X-Men\n",
            "2 . X2\n",
            "3 . X-Men: The Last Stand\n",
            "4 . X-Men: Days of Future Past\n",
            "5 . X-Men: Apocalypse\n",
            "6 . The Wolverine\n",
            "7 . Avengers: Age of Ultron\n",
            "8 . Ant-Man\n",
            "9 . The Avengers\n",
            "10 . X-Men Origins: Wolverine\n",
            "11 . Iron Man 2\n",
            "12 . The Incredible Hulk\n",
            "13 . The Image Revolution\n",
            "14 . Man of Steel\n",
            "15 . Deadpool\n",
            "16 . Thor: The Dark World\n",
            "17 . The Amazing Spider-Man 2\n",
            "18 . X-Men: First Class\n",
            "19 . Captain America: The Winter Soldier\n",
            "20 . Superman II\n",
            "21 . Captain America: Civil War\n",
            "22 . Superman Returns\n",
            "23 . Swordfish\n",
            "24 . Flushed Away\n",
            "25 . Batman v Superman: Dawn of Justice\n",
            "26 . Iron Man\n",
            "27 . Jack the Giant Slayer\n",
            "28 . Watchmen\n",
            "29 . The Helix... Loaded\n"
          ]
        }
      ]
    }
  ]
}